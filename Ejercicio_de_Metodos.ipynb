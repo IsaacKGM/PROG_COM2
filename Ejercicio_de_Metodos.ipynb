{
  "nbformat": 4,
  "nbformat_minor": 0,
  "metadata": {
    "colab": {
      "provenance": []
    },
    "kernelspec": {
      "name": "python3",
      "display_name": "Python 3"
    },
    "language_info": {
      "name": "python"
    }
  },
  "cells": [
    {
      "cell_type": "markdown",
      "source": [
        "##EJERCICIO DE METODOS"
      ],
      "metadata": {
        "id": "LXftdERklVwC"
      }
    },
    {
      "cell_type": "code",
      "source": [
        "def npc(a,b):\n",
        "  if a>b:\n",
        "    print(f\" {a} es el mayor\")\n",
        "  else:\n",
        "    print(f\" {b} es el mayor\")"
      ],
      "metadata": {
        "id": "oeYzo-S2m92u"
      },
      "execution_count": null,
      "outputs": []
    },
    {
      "cell_type": "code",
      "source": [
        "print(npc(4,5))"
      ],
      "metadata": {
        "colab": {
          "base_uri": "https://localhost:8080/"
        },
        "id": "45SmuKPpnVEg",
        "outputId": "d10fabbf-1adf-4cea-d559-0e25bf746f10"
      },
      "execution_count": null,
      "outputs": [
        {
          "output_type": "stream",
          "name": "stdout",
          "text": [
            "None\n"
          ]
        }
      ]
    },
    {
      "cell_type": "code",
      "source": [
        "def mayor(x,y,z):\n",
        " npc(x,npc(y,z))\n",
        " "
      ],
      "metadata": {
        "id": "7Wmcnsl4ntYK"
      },
      "execution_count": null,
      "outputs": []
    },
    {
      "cell_type": "code",
      "source": [
        "print(mayor(4,5,6))"
      ],
      "metadata": {
        "id": "mvNrbhgno5RJ"
      },
      "execution_count": null,
      "outputs": []
    },
    {
      "cell_type": "markdown",
      "source": [
        "##3. Sumar los números de una lista de 3 elementos. Ejemplo [3,4,5]. Salida: 12"
      ],
      "metadata": {
        "id": "xpvVQwAmrGAU"
      }
    },
    {
      "cell_type": "code",
      "source": [
        "lista=[3,4,5]\n",
        "def sumar(lista):\n",
        "  a=0\n",
        "  a=lista[0]+lista[1]+lista[2]\n",
        "  return a\n"
      ],
      "metadata": {
        "id": "TnjJPqtepE2J"
      },
      "execution_count": null,
      "outputs": []
    },
    {
      "cell_type": "code",
      "source": [
        "sumar(lista)"
      ],
      "metadata": {
        "colab": {
          "base_uri": "https://localhost:8080/"
        },
        "id": "TXyhWYRyxMmK",
        "outputId": "a5b042f9-1e31-4db7-da53-112109f4b0cd"
      },
      "execution_count": null,
      "outputs": [
        {
          "output_type": "execute_result",
          "data": {
            "text/plain": [
              "12"
            ]
          },
          "metadata": {},
          "execution_count": 31
        }
      ]
    },
    {
      "cell_type": "markdown",
      "source": [
        "##4. Sumar los números de una lista de 4 elementos. Ejemplo [3,4,5,6]. Salida: 18"
      ],
      "metadata": {
        "id": "jchSwg3OxfE7"
      }
    },
    {
      "cell_type": "code",
      "source": [
        "lista4=[3,4,5,6]\n",
        "def sumar4(lista4):\n",
        "  a=0\n",
        "  a=lista4[0]+lista4[1]+lista4[2]+lista4[3]\n",
        "  return a"
      ],
      "metadata": {
        "id": "A6c5CsiHvw5K"
      },
      "execution_count": null,
      "outputs": []
    },
    {
      "cell_type": "code",
      "source": [
        "sumar4(lista4)"
      ],
      "metadata": {
        "colab": {
          "base_uri": "https://localhost:8080/"
        },
        "id": "Rl-apBMAxnfA",
        "outputId": "db04caa0-b69a-4482-c0c9-9775eb283f4a"
      },
      "execution_count": null,
      "outputs": [
        {
          "output_type": "execute_result",
          "data": {
            "text/plain": [
              "18"
            ]
          },
          "metadata": {},
          "execution_count": 29
        }
      ]
    },
    {
      "cell_type": "markdown",
      "source": [
        "##5.Sumar todos los números de una lista. Ejemplo: (8,5,3,1). Salida: 17"
      ],
      "metadata": {
        "id": "34s-NX9bx9qf"
      }
    },
    {
      "cell_type": "code",
      "source": [
        "lista5=[8,5,3,1]\n",
        "def sumar5(lista5):\n",
        "  d=len(lista5)\n",
        "  a=0\n",
        "  for i in range(d):\n",
        "    a=a+lista5[i]\n",
        "  return a\n"
      ],
      "metadata": {
        "id": "2lYjWl1Tx_K-"
      },
      "execution_count": 44,
      "outputs": []
    },
    {
      "cell_type": "code",
      "source": [
        "sumar5(lista5)"
      ],
      "metadata": {
        "colab": {
          "base_uri": "https://localhost:8080/"
        },
        "id": "w_yn-3PO2fzF",
        "outputId": "cef173c1-b9bb-428e-80f1-5804ba7576bf"
      },
      "execution_count": 51,
      "outputs": [
        {
          "output_type": "execute_result",
          "data": {
            "text/plain": [
              "17"
            ]
          },
          "metadata": {},
          "execution_count": 51
        }
      ]
    },
    {
      "cell_type": "code",
      "source": [
        "def sumar05(lista5):\n",
        "  d=len(lista5)\n",
        "  a=0\n",
        "  for i in lista5:\n",
        "    a+=i\n",
        "  return a"
      ],
      "metadata": {
        "id": "MoaeAkbh2lod"
      },
      "execution_count": 52,
      "outputs": []
    },
    {
      "cell_type": "code",
      "source": [
        "sumar05(lista5)"
      ],
      "metadata": {
        "colab": {
          "base_uri": "https://localhost:8080/"
        },
        "id": "IBFHqjf52tLk",
        "outputId": "83d60778-a68f-4f97-cca1-4eab0c1c5655"
      },
      "execution_count": 53,
      "outputs": [
        {
          "output_type": "execute_result",
          "data": {
            "text/plain": [
              "17"
            ]
          },
          "metadata": {},
          "execution_count": 53
        }
      ]
    },
    {
      "cell_type": "markdown",
      "source": [
        "##6. Multiplicar los números de una lista de 3 elementos. Ejemplo [0,4,5]. Salida: 0"
      ],
      "metadata": {
        "id": "k4TRStwN0Sgv"
      }
    },
    {
      "cell_type": "code",
      "source": [
        "lista6=[3,4,5]\n",
        "def multi6(lista6):\n",
        "  a=0\n",
        "  a=lista6[0]*lista6[1]*lista6[2]\n",
        "  return a\n"
      ],
      "metadata": {
        "id": "5mG40Nzyyd6z"
      },
      "execution_count": 69,
      "outputs": []
    },
    {
      "cell_type": "code",
      "source": [
        "multi6(lista6)"
      ],
      "metadata": {
        "colab": {
          "base_uri": "https://localhost:8080/"
        },
        "id": "TSHqCOFX0c9u",
        "outputId": "48711778-d296-48b1-fb52-acd09820762c"
      },
      "execution_count": 70,
      "outputs": [
        {
          "output_type": "execute_result",
          "data": {
            "text/plain": [
              "60"
            ]
          },
          "metadata": {},
          "execution_count": 70
        }
      ]
    },
    {
      "cell_type": "markdown",
      "source": [
        "##7. Multiplicar los números de una lista de 4 elementos. Ejemplo [3,4,5,1]. Salida: 60"
      ],
      "metadata": {
        "id": "MS-k2yEY0qIG"
      }
    },
    {
      "cell_type": "code",
      "source": [
        "lista7=[3,4,5,1]\n",
        "def multi7(lista7):\n",
        "  a=0\n",
        "  a=lista7[0]*lista7[1]*lista7[2]*lista7[3]\n",
        "  return a\n"
      ],
      "metadata": {
        "id": "QA6GjIle0jpn"
      },
      "execution_count": 73,
      "outputs": []
    },
    {
      "cell_type": "code",
      "source": [
        "multi7(lista7)"
      ],
      "metadata": {
        "colab": {
          "base_uri": "https://localhost:8080/"
        },
        "id": "np0d3o6K00U2",
        "outputId": "afde28b4-63cd-46b2-ada9-a23726423929"
      },
      "execution_count": 74,
      "outputs": [
        {
          "output_type": "execute_result",
          "data": {
            "text/plain": [
              "60"
            ]
          },
          "metadata": {},
          "execution_count": 74
        }
      ]
    },
    {
      "cell_type": "markdown",
      "source": [
        "##8. Multiplicar todos los números de una lista. Ejemplo: (1,2,3,-1). Salida: -6"
      ],
      "metadata": {
        "id": "8-KOtXuZ1zC2"
      }
    },
    {
      "cell_type": "code",
      "source": [
        "lista8=[1,2,3,-1]\n",
        "def multi8(lista8):\n",
        "  a=1\n",
        "  for i in lista8:\n",
        "    a=a*i\n",
        "  return a"
      ],
      "metadata": {
        "id": "q3c5ZU2G03AE"
      },
      "execution_count": 93,
      "outputs": []
    },
    {
      "cell_type": "code",
      "source": [
        "multi8(lista8)"
      ],
      "metadata": {
        "colab": {
          "base_uri": "https://localhost:8080/"
        },
        "id": "b_ioszGA1-gt",
        "outputId": "db54f099-b230-409d-b323-507ace426321"
      },
      "execution_count": 94,
      "outputs": [
        {
          "output_type": "execute_result",
          "data": {
            "text/plain": [
              "-6"
            ]
          },
          "metadata": {},
          "execution_count": 94
        }
      ]
    },
    {
      "cell_type": "markdown",
      "source": [
        "##9. Invierta un String. Ejemplo: ingresa Hola y retorna aloH"
      ],
      "metadata": {
        "id": "8wXyPhSk4JJ-"
      }
    },
    {
      "cell_type": "code",
      "source": [
        "a=input(\" ingresa tu string \")\n",
        "str = a\n",
        "string_reversed=[]\n",
        "i = len(str)\n",
        "while i > 0: \n",
        "    string_reversed += str[i-1]\n",
        "    i = i - 1 \n",
        "print(\"tu palanra al reves es \", string_reversed) "
      ],
      "metadata": {
        "colab": {
          "base_uri": "https://localhost:8080/"
        },
        "id": "cG0upO394MYm",
        "outputId": "e73077f6-2a08-481b-f775-56e03591669c"
      },
      "execution_count": 78,
      "outputs": [
        {
          "output_type": "stream",
          "name": "stdout",
          "text": [
            "ingresa tu stringhola\n",
            "tu palanra al reves es  ['a', 'l', 'o', 'h']\n"
          ]
        }
      ]
    },
    {
      "cell_type": "code",
      "source": [
        "a=input(\" ingresa tu string \")\n",
        "str = a\n",
        "\n",
        "reversed_string=''.join(reversed(str))\n",
        "\n",
        "print(\"tu palanra al reves es \", reversed_string)  \n"
      ],
      "metadata": {
        "colab": {
          "base_uri": "https://localhost:8080/"
        },
        "id": "JeIFPOVY49ct",
        "outputId": "9569d3d4-a0f8-460d-9ab0-979280ea0f69"
      },
      "execution_count": 82,
      "outputs": [
        {
          "output_type": "stream",
          "name": "stdout",
          "text": [
            " ingresa tu string hola\n",
            "tu palanra al reves es  aloh\n"
          ]
        }
      ]
    },
    {
      "cell_type": "markdown",
      "source": [
        "##10. Calcular el factorial de un número"
      ],
      "metadata": {
        "id": "zcIoZ6c85WOt"
      }
    },
    {
      "cell_type": "code",
      "source": [
        "def factorial(a):\n",
        "  for a in range (2,a+1):\n",
        "    ab=a-1\n",
        "    resultado=a*ab\n",
        "    return resultado\n",
        "print(factorial(4))"
      ],
      "metadata": {
        "colab": {
          "base_uri": "https://localhost:8080/"
        },
        "id": "mZuDJfzt4-N1",
        "outputId": "31794a29-b5d7-4f78-c8cf-edd313d1a401"
      },
      "execution_count": 98,
      "outputs": [
        {
          "output_type": "stream",
          "name": "stdout",
          "text": [
            "2\n"
          ]
        }
      ]
    },
    {
      "cell_type": "markdown",
      "source": [
        "##11. Si un número está dentro de un rango."
      ],
      "metadata": {
        "id": "0dK_HhM66sNO"
      }
    },
    {
      "cell_type": "code",
      "source": [
        "def n(ntt,a,b): \n",
        "  if ntt in range(a, b): \n",
        "        print(\"si esta en el rango \")\n",
        "  else:\n",
        "        print(\"no esta el rango \")\n"
      ],
      "metadata": {
        "id": "VMmdh3cM7ZcU"
      },
      "execution_count": 112,
      "outputs": []
    },
    {
      "cell_type": "code",
      "source": [
        "  a=int(input(\"ingresa el inicio del rango \"))\n",
        "  b=int(input(\"ingresa el final del rango \")  )\n",
        "  n =int(input(\"ingresa un numero para ver si esta en el rango ya establecido \"))\n",
        "\n",
        "n(1,4,3)"
      ],
      "metadata": {
        "id": "Anf_fQlr_ifY"
      },
      "execution_count": null,
      "outputs": []
    },
    {
      "cell_type": "markdown",
      "source": [
        "##17.  Chequear si una palabra es palíndromo o no. Ejemplo: “Ana” es un palíndromo\n"
      ],
      "metadata": {
        "id": "wxAB7ddv90xR"
      }
    },
    {
      "cell_type": "code",
      "source": [
        "palabra= input(\"Ingrese una palabra: \").lower()\n",
        "rever = palabra[::-1]\n",
        "if palabra == rever:\n",
        "    print(\"La palabra ingresada si es palindromo!!\")\n",
        "else:\n",
        "    print(\"La palabra ingresada no es palindromo!!\")"
      ],
      "metadata": {
        "colab": {
          "base_uri": "https://localhost:8080/"
        },
        "id": "QRstjjfa91Fg",
        "outputId": "abc1538a-eb6b-424c-e94f-ca3de4f20b98"
      },
      "execution_count": 99,
      "outputs": [
        {
          "output_type": "stream",
          "name": "stdout",
          "text": [
            "Ingrese una palabra: ana\n",
            "La palabra ingresada si es palindromo!!\n"
          ]
        }
      ]
    },
    {
      "cell_type": "code",
      "source": [],
      "metadata": {
        "id": "KMbM9aiy9_Qe"
      },
      "execution_count": null,
      "outputs": []
    }
  ]
}