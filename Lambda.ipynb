{
  "nbformat": 4,
  "nbformat_minor": 0,
  "metadata": {
    "colab": {
      "provenance": []
    },
    "kernelspec": {
      "name": "python3",
      "display_name": "Python 3"
    },
    "language_info": {
      "name": "python"
    }
  },
  "cells": [
    {
      "cell_type": "markdown",
      "source": [
        "#LAMBDA O FUNCIONES ANONIMAS\n",
        "* Funciones pe queñas, de facil acceso y rápidas \n",
        "* puede contener varios argumentos,peros sólo una expresión\n",
        "\n",
        "Definiendo lamda:\n",
        "lambada(parámetro):expresión"
      ],
      "metadata": {
        "id": "JddRTMNW9h0e"
      }
    },
    {
      "cell_type": "code",
      "source": [
        "##funcion que eleva al cuadrado \n",
        "lista=[3,7,6,9]\n",
        "lista2=[n**2 for n in lista]\n",
        "lista2"
      ],
      "metadata": {
        "colab": {
          "base_uri": "https://localhost:8080/"
        },
        "id": "FcUiVTJx-ajS",
        "outputId": "1ee00f25-9c7e-4bb3-a70d-990eba57bc08"
      },
      "execution_count": 34,
      "outputs": [
        {
          "output_type": "execute_result",
          "data": {
            "text/plain": [
              "[9, 49, 36, 81]"
            ]
          },
          "metadata": {},
          "execution_count": 34
        }
      ]
    },
    {
      "cell_type": "code",
      "source": [
        "entrada=[1,3,4,]"
      ],
      "metadata": {
        "id": "ygWUTFrnCybE"
      },
      "execution_count": 35,
      "outputs": []
    },
    {
      "cell_type": "code",
      "source": [
        "def elevar(*entrada): #se coloca * para indicar que va a entrar ana lista\n",
        "  for i in range(len(entrada)):\n",
        "    int(entrada[i])\n",
        "    print(entrada)\n",
        "    print(i**2)\n"
      ],
      "metadata": {
        "id": "NZWcHiqT-q60"
      },
      "execution_count": 25,
      "outputs": []
    },
    {
      "cell_type": "code",
      "source": [
        "lambda1=lambda x:x**2\n",
        "lambda1(2)"
      ],
      "metadata": {
        "colab": {
          "base_uri": "https://localhost:8080/"
        },
        "id": "paqmuuKmAl6c",
        "outputId": "0a1a7f69-f198-451e-c9e2-8d796adc4285"
      },
      "execution_count": 26,
      "outputs": [
        {
          "output_type": "execute_result",
          "data": {
            "text/plain": [
              "4"
            ]
          },
          "metadata": {},
          "execution_count": 26
        }
      ]
    },
    {
      "cell_type": "code",
      "source": [
        "lambda2=lambda x,y:x**y\n",
        "lambda2(2,4)\n"
      ],
      "metadata": {
        "colab": {
          "base_uri": "https://localhost:8080/"
        },
        "id": "wYLh4MkfBHMY",
        "outputId": "c227d6a0-877a-4cf5-c391-8e91684f1d69"
      },
      "execution_count": 27,
      "outputs": [
        {
          "output_type": "execute_result",
          "data": {
            "text/plain": [
              "16"
            ]
          },
          "metadata": {},
          "execution_count": 27
        }
      ]
    },
    {
      "cell_type": "code",
      "source": [
        "lambda3=lambda num:True if num*2>=0 else False\n",
        "lambda3(3)"
      ],
      "metadata": {
        "colab": {
          "base_uri": "https://localhost:8080/"
        },
        "id": "NStalbTwBZ6E",
        "outputId": "50aff885-ee06-4b49-d3fe-1f16cd13f7e7"
      },
      "execution_count": 28,
      "outputs": [
        {
          "output_type": "execute_result",
          "data": {
            "text/plain": [
              "True"
            ]
          },
          "metadata": {},
          "execution_count": 28
        }
      ]
    },
    {
      "cell_type": "code",
      "source": [
        "letras={\"A\":4, \"B\":3, \"C\":1}\n",
        "sorted(letras,key=lambda x:letras[x]%3)"
      ],
      "metadata": {
        "colab": {
          "base_uri": "https://localhost:8080/"
        },
        "id": "qT0aKZnsDKbK",
        "outputId": "63667e85-a88c-481d-e7da-5026942b0afc"
      },
      "execution_count": 29,
      "outputs": [
        {
          "output_type": "execute_result",
          "data": {
            "text/plain": [
              "['B', 'A', 'C']"
            ]
          },
          "metadata": {},
          "execution_count": 29
        }
      ]
    },
    {
      "cell_type": "code",
      "source": [
        "import random \n",
        "mi_lista=[1,2,3,4,5,6,7,8,9]\n",
        "filtrado=[n for n in mi_lista if n%2]"
      ],
      "metadata": {
        "id": "ebxEHyeDDgOU"
      },
      "execution_count": 38,
      "outputs": []
    },
    {
      "cell_type": "markdown",
      "source": [
        "##FUNCIONES DE OREDEN SUPERIOR \n",
        "la funcion se aplica a cada elementode la lista \n",
        "\n",
        "*map(una_funcion,una_lista)"
      ],
      "metadata": {
        "id": "xUl7D_h0Gvps"
      }
    },
    {
      "cell_type": "code",
      "source": [
        "cuadrados=[]#creando una lista vacia\n",
        "for i in lista:\n",
        "  cuadrados.append(i**2)\n",
        "  print(cuadrados)"
      ],
      "metadata": {
        "colab": {
          "base_uri": "https://localhost:8080/"
        },
        "id": "2n2VvjvPFt49",
        "outputId": "edaba58e-3b4d-4c17-a79e-b4abf9ea3426"
      },
      "execution_count": 44,
      "outputs": [
        {
          "output_type": "stream",
          "name": "stdout",
          "text": [
            "[9]\n",
            "[9, 49]\n",
            "[9, 49, 36]\n",
            "[9, 49, 36, 81]\n"
          ]
        }
      ]
    },
    {
      "cell_type": "code",
      "source": [
        "cuadrado2=[x**2 for x in lista]##comprensión\n",
        "cuadrado2"
      ],
      "metadata": {
        "colab": {
          "base_uri": "https://localhost:8080/"
        },
        "id": "gskBi3meIJJs",
        "outputId": "5558dfc4-904e-4cf7-958d-0e1bd7be520d"
      },
      "execution_count": 45,
      "outputs": [
        {
          "output_type": "execute_result",
          "data": {
            "text/plain": [
              "[9, 49, 36, 81]"
            ]
          },
          "metadata": {},
          "execution_count": 45
        }
      ]
    },
    {
      "cell_type": "code",
      "source": [
        "cuadrado3=list(map(lambda x:x**2, lista))\n",
        "cuadrado3"
      ],
      "metadata": {
        "colab": {
          "base_uri": "https://localhost:8080/"
        },
        "id": "DE8Or0wuIxTL",
        "outputId": "29c88186-36a2-4600-e51f-1b86761dc012"
      },
      "execution_count": 47,
      "outputs": [
        {
          "output_type": "execute_result",
          "data": {
            "text/plain": [
              "[9, 49, 36, 81]"
            ]
          },
          "metadata": {},
          "execution_count": 47
        }
      ]
    },
    {
      "cell_type": "markdown",
      "source": [
        "##2. FILTER \n",
        "FILTRAR. si se cumple la condición devuelve true\n",
        "\n",
        "se define: filter(una_funcion_una _lista)\n"
      ],
      "metadata": {
        "id": "Xf3d-LSJKQfw"
      }
    },
    {
      "cell_type": "code",
      "source": [
        "valores=[num for num in range(1,10)]\n",
        "pares=[]\n",
        "for valor in valores:\n",
        "  if valor%2==0:\n",
        "    pares.append(valor)\n",
        "print(pares)\n"
      ],
      "metadata": {
        "colab": {
          "base_uri": "https://localhost:8080/"
        },
        "id": "ve7ZLvevI_JK",
        "outputId": "d9ad6600-9d2e-4de0-ff76-bbb1495192df"
      },
      "execution_count": 49,
      "outputs": [
        {
          "output_type": "stream",
          "name": "stdout",
          "text": [
            "[2, 4, 6, 8]\n"
          ]
        }
      ]
    },
    {
      "cell_type": "code",
      "source": [
        "valor2=[lol for lol in valores if lol%2==0]\n",
        "valor2"
      ],
      "metadata": {
        "colab": {
          "base_uri": "https://localhost:8080/"
        },
        "id": "4V1liZ-vLNWu",
        "outputId": "70837064-b368-4cf8-ff6e-f494aaf8eaed"
      },
      "execution_count": 50,
      "outputs": [
        {
          "output_type": "execute_result",
          "data": {
            "text/plain": [
              "[2, 4, 6, 8]"
            ]
          },
          "metadata": {},
          "execution_count": 50
        }
      ]
    },
    {
      "cell_type": "code",
      "source": [
        "valor3=list(filter(lambda julito: julito%2==0,valores))\n",
        "valor3"
      ],
      "metadata": {
        "colab": {
          "base_uri": "https://localhost:8080/"
        },
        "id": "JI-EYZfhLb8W",
        "outputId": "947da2df-d91d-4c74-cb19-9100abda7e57"
      },
      "execution_count": 51,
      "outputs": [
        {
          "output_type": "execute_result",
          "data": {
            "text/plain": [
              "[2, 4, 6, 8]"
            ]
          },
          "metadata": {},
          "execution_count": 51
        }
      ]
    },
    {
      "cell_type": "markdown",
      "source": [
        "##3.REDUCE:\n",
        "es un acumulador\n",
        "**Para usar reduce se debe importar el modulo functools**"
      ],
      "metadata": {
        "id": "4r9UGx1kL7Uf"
      }
    },
    {
      "cell_type": "code",
      "source": [
        "from functools import reduce\n",
        "\n",
        "def suma(lista):\n",
        "  suma=0\n",
        "  for i in lista:\n",
        "    suma+=i ##suma=suma+i\n",
        "  return suma\n",
        "print(suma(valores))"
      ],
      "metadata": {
        "colab": {
          "base_uri": "https://localhost:8080/"
        },
        "id": "JQwix2u9LwO3",
        "outputId": "2517185e-4ed2-4eaa-9fd6-5c06b2506b03"
      },
      "execution_count": 58,
      "outputs": [
        {
          "output_type": "stream",
          "name": "stdout",
          "text": [
            "45\n"
          ]
        }
      ]
    },
    {
      "cell_type": "code",
      "source": [
        "suma1=reduce(lambda x,y:x+y,valores)\n",
        "suma1\n"
      ],
      "metadata": {
        "colab": {
          "base_uri": "https://localhost:8080/"
        },
        "id": "GmWp-QWDMvD7",
        "outputId": "ad93a476-3eea-4ca4-c7fe-e357adea1b50"
      },
      "execution_count": 60,
      "outputs": [
        {
          "output_type": "execute_result",
          "data": {
            "text/plain": [
              "45"
            ]
          },
          "metadata": {},
          "execution_count": 60
        }
      ]
    },
    {
      "cell_type": "code",
      "source": [],
      "metadata": {
        "id": "nbM0rrtmOVvC"
      },
      "execution_count": null,
      "outputs": []
    }
  ]
}