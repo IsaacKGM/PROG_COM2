{
  "nbformat": 4,
  "nbformat_minor": 0,
  "metadata": {
    "colab": {
      "provenance": [],
      "collapsed_sections": []
    },
    "kernelspec": {
      "name": "python3",
      "display_name": "Python 3"
    },
    "language_info": {
      "name": "python"
    }
  },
  "cells": [
    {
      "cell_type": "markdown",
      "source": [
        "1. Es indispensable tener una GPU de google para programar.\n",
        "\n",
        "2. no tiene cuota de almasamiento ilimitada.\n",
        "\n",
        "3. no se puede sacar contraseñas de manera iegal\n",
        "\n",
        "4. No se pueden poner entradas por caja de texto (Entry) solo con input.\n",
        "\n",
        "5. No poder identificar o llamar en algunos casos algún tipo de librería importada.\n",
        "\n",
        "6. para ajustar los limetes de la disponibilidad del hardware se necesita flexibilidad.\n",
        "\n",
        "7. no se puede conectar a proxies remotos.\n",
        "\n",
        "8. No se puede ejecutar sin conexión a internet.\n",
        "\n",
        "9. Usar un escritorio remoto o SSH.\n",
        "\n",
        "10. Colab limita la funcionalidad de subir y descargar archivos locales del pc y de google drive.\n",
        "\n",
        "11. El tiempo máximo que podemos estar conectados a una misma máquina desde un cuaderno es de 12 horas.\n",
        "\n",
        "12. Las operaciones de Google Drive pueden agotar el tiempo de espera cuando el número de archivos o subcarpetas de una carpeta se vuelve demasiado grande, sin superar el límite necesariamente.\n",
        "\n",
        "13. al guardar una información nueva puede genera un error y no permite llamar a una variable, entonces se debe desconectar el entorno de ejecución.\n",
        "\n",
        "14. No se puede Eludir las restricciones de acceso o de uso de recursos.\n",
        "\n",
        "15. en el uso de intercatividad no se pueden alojar contenido multimedia, archivos u otros servicios web que no esten relacionados con este.\n",
        "\n",
        "16. No permite graficar sin libreria las cuales hayan sido importada.\n",
        "\n",
        "17. Google colab genera errores cuando el contenido es compartido ya que puede ser modificado al mismo tiempo por lo que alguno podría alterar el programa sin ser registrado.\n",
        "\n",
        "18. Colab genera error cuando estamos realizando una ejecución muy prolongada y muy potente, el entorno se desconecte.\n",
        "\n",
        "19. al tener contenido compartido puede ser modificado al mismo tiempo, esto es que cualquiera puede alterar el programa.\n",
        "\n",
        "20. No se puede Descargar torrents o compartir archivos de punto a punto."
      ],
      "metadata": {
        "id": "1nBW6lLr7c0L"
      }
    },
    {
      "cell_type": "code",
      "source": [],
      "metadata": {
        "id": "21hqvKV78Gh6"
      },
      "execution_count": null,
      "outputs": []
    }
  ]
}