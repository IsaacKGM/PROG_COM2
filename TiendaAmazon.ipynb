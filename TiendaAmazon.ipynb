{
  "nbformat": 4,
  "nbformat_minor": 0,
  "metadata": {
    "colab": {
      "provenance": []
    },
    "kernelspec": {
      "name": "python3",
      "display_name": "Python 3"
    },
    "language_info": {
      "name": "python"
    }
  },
  "cells": [
    {
      "cell_type": "code",
      "execution_count": 14,
      "metadata": {
        "colab": {
          "base_uri": "https://localhost:8080/"
        },
        "id": "8tbE8BeJDtlB",
        "outputId": "628b4b1a-4a05-462e-8939-d1460880d139"
      },
      "outputs": [
        {
          "output_type": "stream",
          "name": "stdout",
          "text": [
            "('Tecnologia', {'Tv': 400, 'Pc': 490, 'Audifonos': 25})\n",
            "\n",
            "('Libros', {'Principito': 15, 'Harry Potter': 30, 'Imperio Final': 50})\n",
            "\n",
            "('Ropa', {'Camisa Marvel': 20, 'Sombrero': 5, 'Zapatos Alumbran': 270})\n",
            "\n",
            "Nombre:  Camisa Marvel\n",
            "Categoria:  Ropa\n",
            "Cantidad: 3\n",
            "------Recibo------\n",
            "['producto= Camisa Marvel categoria =  Ropa cantidad= 3']\n",
            "El valor a pagar es: 60 Dolares\n"
          ]
        }
      ],
      "source": [
        "menu={\"Tecnologia\":{\"Tv\":400,\"Pc\":490,\"Audifonos\":25},\n",
        "      \"Libros\":{\"Principito\":15,\"Harry Potter\":30,\"Imperio Final\":50},\n",
        "      \"Ropa\":{\"Camisa Marvel\":20,\"Sombrero\":5,\"Zapatos Alumbran\":270}}\n",
        "\n",
        "pedido = []\n",
        "\n",
        "for i in menu.items():\n",
        "  print(i)\n",
        "  print()\n",
        "\n",
        "class Productos():\n",
        "  def __init__(self,nombre,categoria,cant):\n",
        "    self.nombre=nombre\n",
        "    self.categoria=categoria\n",
        "    self.cant=cant\n",
        "    \n",
        "  def agregar(self):\n",
        "    pedido.append(f\"producto= {self.nombre} categoria =  {self.categoria} cantidad= {self.cant}\")\n",
        "    print(f\"------Recibo------\\n{pedido}\")\n",
        "\n",
        "  def recibo(self):\n",
        "    a = menu.get(categoria)\n",
        "    b = a.get(nombre_producto)\n",
        "    precio= b*cantidad\n",
        "    if precio >= 200:\n",
        "      iva = precio * 0.05\n",
        "      precio = precio + iva\n",
        "    print(f\"El valor a pagar es: {precio} Dolares\")\n",
        "    \n",
        "\n",
        "nombre_producto= input(\"Nombre:  \")\n",
        "categoria=input(\"Categoria:  \")\n",
        "cantidad= int(input(\"Cantidad: \"))\n",
        "\n",
        "\n",
        "producto1=Productos(nombre_producto,categoria,cantidad)\n",
        "producto1.agregar()\n",
        "producto1.recibo()"
      ]
    },
    {
      "cell_type": "code",
      "source": [],
      "metadata": {
        "id": "G2uWcA7EDuol"
      },
      "execution_count": null,
      "outputs": []
    }
  ]
}