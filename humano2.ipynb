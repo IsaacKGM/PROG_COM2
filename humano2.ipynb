{
  "nbformat": 4,
  "nbformat_minor": 0,
  "metadata": {
    "colab": {
      "provenance": [],
      "collapsed_sections": []
    },
    "kernelspec": {
      "name": "python3",
      "display_name": "Python 3"
    },
    "language_info": {
      "name": "python"
    }
  },
  "cells": [
    {
      "cell_type": "code",
      "execution_count": null,
      "metadata": {
        "id": "3qRB0c82tl57"
      },
      "outputs": [],
      "source": [
        "class Fracción:\n",
        "  def __init__(self,num,den):\n",
        "    self.num=num\n",
        "    self.den=den\n",
        "\n",
        "  def division(self,x):\n",
        "    if self.den*x.num !=0:\n",
        "      num=self.num * x.num\n",
        "      den=self.den * x.den\n",
        "      r=  Fracción(num,den)\n",
        "      print(f\"la division entre:{self.num}/{self.den} y {x.num}/{x.den} es igual a {r.num}/{r.den} \")\n",
        "      return r\n",
        "    else:\n",
        "      print(\"error\")\n",
        "\n",
        "\n",
        "  def multiplicacion(self,x):\n",
        "    if self.den*x.num !=0:\n",
        "      num=self.num * x.num\n",
        "      den=self.den * x.den\n",
        "      m=  Fracción(num,den)\n",
        "      print(f\"la multiplicacion entre:{self.num}/{self.den} y {x.num}/{x.den} es igual a {m.num}/{m.den} \")\n",
        "      return m\n",
        "    else:\n",
        "      print(\"error\")\n",
        "\n",
        "class Fraacion():\n",
        "  nume=0\n",
        "  deno=1\n",
        "  exp=0\n",
        "  \n",
        "  def __init__(self,nume=0,deno= 1, exp=0):\n",
        "    self.nume=nume\n",
        "    self.deno=deno\n",
        "    self.exp=exp\n",
        "\n",
        "\n",
        "  def poetncia(self):\n",
        "    if self.exp <0:\n",
        "      nume=self.deno**self.exp\n",
        "      deno=self.nume**self.exp\n"
      ]
    },
    {
      "cell_type": "code",
      "source": [
        "b=Fracción(5,9)"
      ],
      "metadata": {
        "id": "iNkTO-ej1nV_"
      },
      "execution_count": null,
      "outputs": []
    },
    {
      "cell_type": "code",
      "source": [
        "a=Fracción(8,6)"
      ],
      "metadata": {
        "id": "h1qp2CnP1-Ml"
      },
      "execution_count": null,
      "outputs": []
    },
    {
      "cell_type": "code",
      "source": [
        "b.division(a)"
      ],
      "metadata": {
        "colab": {
          "base_uri": "https://localhost:8080/"
        },
        "id": "GAE6yVGi2Aql",
        "outputId": "fd0663c7-a845-4c63-a7ca-f7e1173c02ed"
      },
      "execution_count": null,
      "outputs": [
        {
          "output_type": "stream",
          "name": "stdout",
          "text": [
            "la division entre:5/9 y 8/6 es igual a 40/54 \n"
          ]
        }
      ]
    },
    {
      "cell_type": "code",
      "source": [
        "b.multiplicacion(a)"
      ],
      "metadata": {
        "colab": {
          "base_uri": "https://localhost:8080/"
        },
        "id": "PLLHZAtq2FW1",
        "outputId": "5f468344-5bdd-4ffb-9925-6d269355f608"
      },
      "execution_count": null,
      "outputs": [
        {
          "output_type": "stream",
          "name": "stdout",
          "text": [
            "la multiplicacion entre:5/9 y 8/6 es igual a 40/54 \n"
          ]
        },
        {
          "output_type": "execute_result",
          "data": {
            "text/plain": [
              "<__main__.Fracción at 0x7fd4c5f94f90>"
            ]
          },
          "metadata": {},
          "execution_count": 37
        }
      ]
    },
    {
      "cell_type": "code",
      "source": [],
      "metadata": {
        "id": "eIDiFCiZ4hBv"
      },
      "execution_count": null,
      "outputs": []
    }
  ]
}