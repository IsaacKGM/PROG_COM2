{
  "nbformat": 4,
  "nbformat_minor": 0,
  "metadata": {
    "colab": {
      "provenance": [],
      "collapsed_sections": []
    },
    "kernelspec": {
      "name": "python3",
      "display_name": "Python 3"
    },
    "language_info": {
      "name": "python"
    }
  },
  "cells": [
    {
      "cell_type": "code",
      "source": [
        "lista = [1, 2, 3, 4, 5, 6, 7, 8]\n",
        "nueva_lista = []\n",
        "\n",
        "for elemento in lista:\n",
        "    nueva_lista.append(elemento * 7)\n"
      ],
      "metadata": {
        "id": "tWKVSB5LtZ40"
      },
      "execution_count": 4,
      "outputs": []
    },
    {
      "cell_type": "code",
      "execution_count": 8,
      "metadata": {
        "colab": {
          "base_uri": "https://localhost:8080/"
        },
        "id": "LlmAqicYqCA8",
        "outputId": "2b69ab2a-f7a6-49b4-a144-84177dcb20b8"
      },
      "outputs": [
        {
          "output_type": "stream",
          "name": "stdout",
          "text": [
            "ingresa el numero por el que quieres que se multiplique la lista 5\n",
            "[5, 10, 15, 20, 25, 30, 35, 40]\n"
          ]
        }
      ],
      "source": [
        "m=int(input(\"ingresa el numero por el que quieres que se multiplique la lista \"))\n",
        "\n",
        "lista_de_comprensión = [1, 2, 3, 4, 5, 6, 7, 8]\n",
        "\n",
        "nueva_lista_comprensión = [elemento * m for elemento in lista_de_comprensión]\n",
        "\n",
        "print(nueva_lista_comprensión)"
      ]
    },
    {
      "cell_type": "code",
      "source": [
        "m=int(input(\"ingresa el numero por el que quieres que se multiplique la lista \"))\n",
        "\n",
        "lista_de_comprensión = [1, 2, 3, 4, 5, 6, 7, 8]\n",
        "\n",
        "nueva_lista_comprensión = [elemento * m for elemento in lista_de_comprensión]\n",
        "\n",
        "print(nueva_lista_comprensión)\n",
        "\n",
        "lista_compresión_pares = [elemento for elemento in nueva_lista_comprensión if elemento%2==0 ]\n",
        "\n",
        "print(\"los numeros pares de la lista anterior son\")\n",
        "print(lista_compresión_pares)\n",
        "\n",
        "\n",
        "lista_compresión_impares = [elemento for elemento in nueva_lista_comprensión if elemento%3==0 ]\n",
        "\n",
        "print(\"los numeros impares de la lista anterior son\")\n",
        "print(lista_compresión_impares)\n",
        "\n"
      ],
      "metadata": {
        "colab": {
          "base_uri": "https://localhost:8080/"
        },
        "id": "9zdhKFb2te08",
        "outputId": "8bb32303-82b0-408e-d7a4-84268ccf7fc1"
      },
      "execution_count": 11,
      "outputs": [
        {
          "output_type": "stream",
          "name": "stdout",
          "text": [
            "ingresa el numero por el que quieres que se multiplique la lista 3\n",
            "[3, 6, 9, 12, 15, 18, 21, 24]\n",
            "los numeros pares de la lista anterior son\n",
            "[6, 12, 18, 24]\n",
            "los numeros pares de la lista anterior son\n",
            "[3, 6, 9, 12, 15, 18, 21, 24]\n"
          ]
        }
      ]
    },
    {
      "cell_type": "code",
      "source": [
        "n=int(input(\" ingresa el numero de palabras que vas ingresar \"))\n",
        "x=0\n",
        "lista=[]\n",
        "while x<n:\n",
        "  x=x+1\n",
        "  l=str(input(\"ingresa una plabara completa totalemente en mayúsculas o en minúsculas  \"))\n",
        "  lista.append(l)\n",
        "\n",
        "lista_comprimida_M=[elemento for elemento in lista if elemento.isupper()]\n",
        "\n",
        "print(\"las palbras escritas en mayúsculas son\")\n",
        "\n",
        "print(lista_comprimida_M)\n",
        "\n",
        "lista_comprimida_m=[elemento for elemento in lista if elemento.islower()]\n",
        "\n",
        "print(\"las palbras escritas en minúsculas son\")\n",
        "print(lista_comprimida_m)\n",
        "\n"
      ],
      "metadata": {
        "colab": {
          "base_uri": "https://localhost:8080/"
        },
        "id": "hxk3hmzA04NG",
        "outputId": "dec582b9-453e-4558-d9df-86747d0c20d8"
      },
      "execution_count": 20,
      "outputs": [
        {
          "output_type": "stream",
          "name": "stdout",
          "text": [
            " ingresa el numero de palabras que vas ingresar 5\n",
            "ingresa una plabara completa totalemente en mayúsculas o en minúsculas  CARLOS\n",
            "ingresa una plabara completa totalemente en mayúsculas o en minúsculas  camilo\n",
            "ingresa una plabara completa totalemente en mayúsculas o en minúsculas  ANDRES\n",
            "ingresa una plabara completa totalemente en mayúsculas o en minúsculas  juan\n",
            "ingresa una plabara completa totalemente en mayúsculas o en minúsculas  SEBASTIAN\n",
            "las palbras escritas en mayúsculas son\n",
            "['CARLOS', 'ANDRES', 'SEBASTIAN']\n",
            "las palbras escritas en minúsculas son\n",
            "['camilo', 'juan']\n"
          ]
        }
      ]
    },
    {
      "cell_type": "markdown",
      "source": [
        "sintaxis \n",
        "\n",
        "\n",
        "ventajas: mas eiciencia en tiempo y espacio que los bucles \n",
        "requiere menso lineas de codigos \n"
      ],
      "metadata": {
        "id": "DcygWJ0n_wZ6"
      }
    },
    {
      "cell_type": "code",
      "source": [
        "números=[(n*2)for n in range(1,9)]\n",
        "print(números)"
      ],
      "metadata": {
        "colab": {
          "base_uri": "https://localhost:8080/"
        },
        "id": "Mibddi8j_gOm",
        "outputId": "356c6c01-eaa0-4fb1-f102-05dfbd4848a7"
      },
      "execution_count": 21,
      "outputs": [
        {
          "output_type": "stream",
          "name": "stdout",
          "text": [
            "[2, 4, 6, 8, 10, 12, 14, 16]\n"
          ]
        }
      ]
    },
    {
      "cell_type": "code",
      "source": [
        "cadenas=[\"*\" * n for n in range(1,6)]\n",
        "print(cadenas,end=\"\\n\" )"
      ],
      "metadata": {
        "colab": {
          "base_uri": "https://localhost:8080/"
        },
        "id": "B9Vc22MB_usr",
        "outputId": "276e1aa8-1743-4892-86d6-0f8441dbc5ae"
      },
      "execution_count": 30,
      "outputs": [
        {
          "output_type": "stream",
          "name": "stdout",
          "text": [
            "['*', '**', '***', '****', '*****']\n"
          ]
        }
      ]
    },
    {
      "cell_type": "code",
      "source": [
        "#Ejercicio by samuelito \n",
        "x=input(\"ingrese la palabra que desee: \")\n",
        "lista=[n for n in x]\n",
        "print(lista)"
      ],
      "metadata": {
        "colab": {
          "base_uri": "https://localhost:8080/"
        },
        "id": "GGIdJ0YmBSR4",
        "outputId": "8803637d-fa8a-4cd6-c2ac-db68360e6135"
      },
      "execution_count": 32,
      "outputs": [
        {
          "output_type": "stream",
          "name": "stdout",
          "text": [
            "ingrese la palabra que desee: jklñ{\n",
            "['j', 'k', 'l', 'ñ', '{']\n"
          ]
        }
      ]
    },
    {
      "cell_type": "code",
      "source": [
        "#ejercicio daniel amado \n",
        "lista1 = [2, 7,10,9,8]\n",
        "lista2= [elementos**2 for elementos in lista1 if elementos%2==0]\n",
        "print(\"nueva lisrta\",lista 2)"
      ],
      "metadata": {
        "id": "JhxEA0DgDCbb"
      },
      "execution_count": null,
      "outputs": []
    },
    {
      "cell_type": "code",
      "source": [
        "#ejercicio Iván \n",
        "import random\n",
        "capitan= [random.randrange(1,30)for i in range(9)]\n",
        "print(\"imprimir números aleatorios de la lista: \", str(capitan))"
      ],
      "metadata": {
        "id": "V2XOH7asDrS6"
      },
      "execution_count": null,
      "outputs": []
    },
    {
      "cell_type": "code",
      "source": [
        "#ejercico Juanpa\n",
        "precios=[]\n",
        "print(\"ingrear los números de los que quieres hacer un descuento \")\n",
        "det=True\n",
        "while det:\n",
        "  num=int(input(\"si no desea ingresar mas numeros digite 0 \"))\n",
        "  precios.append(num)\n",
        "  det=False if num==0 else num>0\n",
        "  des=float(input(\"ingresar el descuento sin el % \"))\n",
        "  presdes = [precio*des/100 for precio in precios]\n",
        "  presdes.pop(-1)\n",
        "  print(\"este es el valor que le debes resta a cada numero \", presdes)"
      ],
      "metadata": {
        "colab": {
          "base_uri": "https://localhost:8080/"
        },
        "id": "Y42MVwNZGPtz",
        "outputId": "823cc5e8-8403-4c89-e849-7bf29a9cb2c4"
      },
      "execution_count": null,
      "outputs": [
        {
          "output_type": "stream",
          "name": "stdout",
          "text": [
            "ingrear los números de los que quieres hacer un descuento \n"
          ]
        }
      ]
    },
    {
      "cell_type": "code",
      "source": [
        "# ejercico cristian\n",
        "num=[]\n",
        "num1=[i] for i in num ]\n",
        "for i in range(6):\n",
        "(int(input(\"introduce el número ganador \")))\n",
        "  num"
      ],
      "metadata": {
        "id": "ekq36VqIHg-B"
      },
      "execution_count": null,
      "outputs": []
    }
  ]
}