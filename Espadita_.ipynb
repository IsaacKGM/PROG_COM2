{
  "nbformat": 4,
  "nbformat_minor": 0,
  "metadata": {
    "colab": {
      "provenance": []
    },
    "kernelspec": {
      "name": "python3",
      "display_name": "Python 3"
    },
    "language_info": {
      "name": "python"
    }
  },
  "cells": [
    {
      "cell_type": "code",
      "execution_count": null,
      "metadata": {
        "id": "wQjB0gDTECgO"
      },
      "outputs": [],
      "source": [
        "class Espadas(): #super clase\n",
        "  nombre=\"soy una espada\"\n",
        "  daño= \"causo daño\"\n",
        "\n",
        "  def __init__(self,nombre,daño):\n",
        "    self.nombre = nombre\n",
        "    self.daño = daño\n",
        "\n",
        "  def __repr__ (self):\n",
        "    return f\"espada de : {self.nombre}, y causa: {self.daño} de daño \"\n",
        "  \n"
      ]
    },
    {
      "cell_type": "code",
      "source": [
        "class Espada_elemental(Espadas): #clase hija\n",
        "  def masatributos(self,elemento,tamaño,durabilidad,color,movilidad):\n",
        "    self.elemento=elemento\n",
        "    self.tamaño = tamaño\n",
        "    self.durabilidad= durabilidad\n",
        "    self.color=color\n",
        "    self.movilidad=movilidad\n",
        "    self.habilidades=habilidades\n"
      ],
      "metadata": {
        "id": "RJ9zvGqbGxjk"
      },
      "execution_count": null,
      "outputs": []
    },
    {
      "cell_type": "code",
      "source": [
        "espada1=Espada_elemental(\"fuego\", 200) #Atributos calase madre\n"
      ],
      "metadata": {
        "id": "WDmXtCgdIbbu"
      },
      "execution_count": null,
      "outputs": []
    },
    {
      "cell_type": "code",
      "source": [
        "print(espada1)"
      ],
      "metadata": {
        "colab": {
          "base_uri": "https://localhost:8080/"
        },
        "id": "HqUAhrX1JC7y",
        "outputId": "85e90aad-a12c-4561-8c3a-1d950abb352f"
      },
      "execution_count": null,
      "outputs": [
        {
          "output_type": "stream",
          "name": "stdout",
          "text": [
            "espada de : fuego, y causa: 200 de daño \n"
          ]
        }
      ]
    },
    {
      "cell_type": "code",
      "source": [
        "espada1.masatributos(\"fuego\", 25 , 100, \" rojo\",\"azul\") #Atributos clase hija"
      ],
      "metadata": {
        "id": "xrQHQ3juJKFy"
      },
      "execution_count": 65,
      "outputs": []
    },
    {
      "cell_type": "code",
      "source": [
        "espada1.__dict__#nombre y daño heredados de la clase madre\n"
      ],
      "metadata": {
        "colab": {
          "base_uri": "https://localhost:8080/"
        },
        "id": "kE5cOGs-J-Kh",
        "outputId": "30630a9b-4ed7-4e43-a60d-66a6b36928de"
      },
      "execution_count": null,
      "outputs": [
        {
          "output_type": "execute_result",
          "data": {
            "text/plain": [
              "{'nombre': 'fuego', 'daño': 200}"
            ]
          },
          "metadata": {},
          "execution_count": 58
        }
      ]
    },
    {
      "cell_type": "code",
      "source": [
        "espadaIsaac=Espada_elemental(\"La Innombrable\", \"∞³\") #Atributos calase madre"
      ],
      "metadata": {
        "id": "JGe7ji-MKKfh"
      },
      "execution_count": null,
      "outputs": []
    },
    {
      "cell_type": "code",
      "source": [
        "print(espadaIsaac)"
      ],
      "metadata": {
        "colab": {
          "base_uri": "https://localhost:8080/"
        },
        "id": "8WJctXVLKUJS",
        "outputId": "2b2eab46-95f8-4398-a74b-9754769eb05a"
      },
      "execution_count": null,
      "outputs": [
        {
          "output_type": "stream",
          "name": "stdout",
          "text": [
            "espada de : La Innombrable, y causa: ∞³ de daño \n"
          ]
        }
      ]
    },
    {
      "cell_type": "code",
      "source": [
        "espadaIsaac.masatributos(\"Resto de estrella solar\", \"infinita\" , \"hiper resistenete-mata dragones \", \" Invisible\", \"teleport\") #Atributos clase hija"
      ],
      "metadata": {
        "id": "zpuSSZU2KUhy"
      },
      "execution_count": null,
      "outputs": []
    },
    {
      "cell_type": "code",
      "source": [
        "espadaIsaac.__dict__#nombre y daño heredados de la clase madre"
      ],
      "metadata": {
        "colab": {
          "base_uri": "https://localhost:8080/"
        },
        "id": "dL9awpGlKZsi",
        "outputId": "04d7f711-8268-4349-d9a7-fa7db7ab0adf"
      },
      "execution_count": null,
      "outputs": [
        {
          "output_type": "execute_result",
          "data": {
            "text/plain": [
              "{'nombre': 'La Innombrable',\n",
              " 'daño': '∞³',\n",
              " 'elemento': 'Resto de estrella solar',\n",
              " 'tamaño': 'infinita',\n",
              " 'durabilidad': 'hiper resistenete-mata dragones ',\n",
              " 'color': ' Invisible',\n",
              " 'movilidad': 'teleport'}"
            ]
          },
          "metadata": {},
          "execution_count": 62
        }
      ]
    },
    {
      "cell_type": "code",
      "source": [],
      "metadata": {
        "id": "uGchbQ0ZKeUi"
      },
      "execution_count": null,
      "outputs": []
    }
  ]
}