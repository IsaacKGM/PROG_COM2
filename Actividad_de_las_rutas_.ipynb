{
  "nbformat": 4,
  "nbformat_minor": 0,
  "metadata": {
    "colab": {
      "provenance": []
    },
    "kernelspec": {
      "name": "python3",
      "display_name": "Python 3"
    },
    "language_info": {
      "name": "python"
    }
  },
  "cells": [
    {
      "cell_type": "markdown",
      "source": [
        "##RUTA 1\n"
      ],
      "metadata": {
        "id": "9l5uemHT-r7y"
      }
    },
    {
      "cell_type": "code",
      "source": [
        "print(\"\\U0001F480\", \"\\U0001F47F\", \"\\U0001F479\", \"\\U0001F47A\", \"\\U0001F47B\")"
      ],
      "metadata": {
        "colab": {
          "base_uri": "https://localhost:8080/"
        },
        "id": "f5rWs-sdA4xy",
        "outputId": "d9086a15-d941-46fb-aaef-42973453996b"
      },
      "execution_count": 26,
      "outputs": [
        {
          "output_type": "stream",
          "name": "stdout",
          "text": [
            "💀 👿 👹 👺 👻\n"
          ]
        }
      ]
    },
    {
      "cell_type": "code",
      "source": [
        "def requerimientos():\n",
        "  d=input(\"Cómo te llamas \").count\n",
        "  y=int(input(\"Cuántos años tienes? \"))\n",
        "  if y%2==0:\n",
        "   z=int(input(\"Cuál es tu altura en cm? \"))\n",
        "  if z>=50 and z<=100:\n",
        "    p=int(((z/50)*2))\n",
        "    for i in range(0,p):\n",
        "      dulces.append(random.choice(tipos_de_dulces))\n",
        "  print(dulces)"
      ],
      "metadata": {
        "id": "zTU73sUQ_8nj"
      },
      "execution_count": 20,
      "outputs": []
    },
    {
      "cell_type": "code",
      "source": [
        "import random\n",
        "dulces=[]\n",
        "tipos_de_dulces=[\"\\U0001F480\t\", \"\\U0001F47F\t\", \"\\U0001F479\t\", \"\\U0001F47A\t\", \"\\U0001F47B\t\"]\n",
        "x=input(\".........\").lower()\n",
        "if x ==\"truco\":\n",
        "  requerimientos()"
      ],
      "metadata": {
        "colab": {
          "base_uri": "https://localhost:8080/"
        },
        "id": "HfB5BN1y-0ri",
        "outputId": "b3cab2ea-68f8-40f2-8171-b1ec93716063"
      },
      "execution_count": 21,
      "outputs": [
        {
          "output_type": "stream",
          "name": "stdout",
          "text": [
            ".........truco\n",
            "Cómo te llamasisaac\n",
            "Cuántos años tienes? 18\n",
            "Cuál es tu altura en cm? 100\n",
            "['👻\\t', '👿\\t', '👻\\t', '👺\\t']\n"
          ]
        }
      ]
    },
    {
      "cell_type": "markdown",
      "source": [
        "RUTA 2"
      ],
      "metadata": {
        "id": "Hyjw6_gWBAdi"
      }
    },
    {
      "cell_type": "code",
      "source": [
        "print(\"\\U0001F9C1\",\"\\U0001F36B\",\"\\U0001F36C\",\"\\U0001F36D\")"
      ],
      "metadata": {
        "colab": {
          "base_uri": "https://localhost:8080/"
        },
        "id": "uqStwv3uBzTZ",
        "outputId": "b087afac-5c9f-4e42-917d-d50c60bb2c72"
      },
      "execution_count": 25,
      "outputs": [
        {
          "output_type": "stream",
          "name": "stdout",
          "text": [
            "🧁 🍫 🍬 🍭\n"
          ]
        }
      ]
    },
    {
      "cell_type": "code",
      "source": [
        "def preguntas():\n",
        "  m=input(\"Cuál es tu nombre\")\n",
        "  ñ=int(len(m))\n",
        "  for i in range(0,ñ):\n",
        "    dulces.append(random.choice(tipos_de_dulces))\n",
        "\n",
        "  y=int(input(\"Cuantos años tienes?\"))\n",
        "  if y>=3 and y<=10:\n",
        "    w=int((y/3))\n",
        "    for i in range(0,w):\n",
        "      dulces.append(random.choice(tipos_de_dulces))\n",
        "  else:\n",
        "    print('tas chico')\n",
        "  z=int(input(\"Cuàl es tu altura en cm?\"))\n",
        "  if z>=50 and z<=150:\n",
        "    p=int(((z/50)*2))\n",
        "    for i in range(0,p):\n",
        "      dulces.append(random.choice(tipos_de_dulces))\n",
        "  print(dulces)"
      ],
      "metadata": {
        "id": "uuhM3I0cAXJZ"
      },
      "execution_count": 22,
      "outputs": []
    },
    {
      "cell_type": "code",
      "source": [
        "import random\n",
        "dulces=[]\n",
        "tipos_de_dulces=[\"\\U0001F9C1\t\",\"\\U0001F36B\",\"\\U0001F36C\t\",\"\\U0001F36D\"]\n",
        "x=input(\".........\").lower()\n",
        "if x ==\"truco\":\n",
        "  preguntas()"
      ],
      "metadata": {
        "colab": {
          "base_uri": "https://localhost:8080/"
        },
        "id": "lRpbUND6BG1g",
        "outputId": "660bc24e-b457-4d1a-80c8-ffc3d68faa53"
      },
      "execution_count": 23,
      "outputs": [
        {
          "output_type": "stream",
          "name": "stdout",
          "text": [
            ".........truco\n",
            "Cuál es tu nombreisaac\n",
            "Cuantos años tienes?18\n",
            "tas chico\n",
            "Cuàl es tu altura en cm?100\n",
            "['🧁\\t', '🍬\\t', '🍫', '🍫', '🧁\\t', '🧁\\t', '🍫', '🍫', '🧁\\t']\n"
          ]
        }
      ]
    },
    {
      "cell_type": "code",
      "source": [],
      "metadata": {
        "id": "vX5Wuu4DBIuz"
      },
      "execution_count": null,
      "outputs": []
    }
  ]
}