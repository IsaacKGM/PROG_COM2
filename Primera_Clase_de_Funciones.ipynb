{
  "nbformat": 4,
  "nbformat_minor": 0,
  "metadata": {
    "colab": {
      "provenance": [],
      "collapsed_sections": []
    },
    "kernelspec": {
      "name": "python3",
      "display_name": "Python 3"
    },
    "language_info": {
      "name": "python"
    }
  },
  "cells": [
    {
      "cell_type": "markdown",
      "source": [
        "##FUNCIONESSSSSSSSSSSSSSSSSSS"
      ],
      "metadata": {
        "id": "J6pn5UkI0Kyr"
      }
    },
    {
      "cell_type": "markdown",
      "source": [
        "def (Nombre cualquiera)(Parámetros o argumentos):\n",
        "\n",
        "lo que va dentro de la función "
      ],
      "metadata": {
        "id": "NRtt2Kkv0yGq"
      }
    },
    {
      "cell_type": "markdown",
      "source": [
        "Tipos de funciones:\n",
        "\n",
        "1. Sin parámetros, sin retorno\n",
        "def manuel():\n",
        "print(\"tome su 5\")\n",
        "\n",
        "\n",
        "2. Sin parámetros, con retorno \n",
        "def nicolás ():\n",
        "\n",
        "  print(\"Hola Nicolás\")\n",
        "\n",
        "  a=5\n",
        "\n",
        "  return a \n",
        "\n",
        "3. Con parámetros, sin retorno \n",
        "def holitas (a, \"b\", x=False):\n",
        "  int a\n",
        "  b=string\n",
        "  x=boolean\n",
        "  print(\"Hola Nicolás\")\n",
        "\n",
        "  a=5\n",
        "\n",
        "4. Con parámetros, con retorno\n",
        "def holitas (a, \"b\", x=False):\n",
        "  int a\n",
        "  b=string\n",
        "  x=boolean\n",
        "  print(\"Hola Nicolás\")\n",
        "\n",
        "  a=5\n",
        "\n",
        "  return a"
      ],
      "metadata": {
        "id": "tFKPRclg1Dy3"
      }
    },
    {
      "cell_type": "code",
      "source": [
        "def salude():\n",
        "  print(\"Saludar\")\n",
        "  print(\"Es de Cracks\")"
      ],
      "metadata": {
        "id": "06kooCIK0N-g"
      },
      "execution_count": 1,
      "outputs": []
    },
    {
      "cell_type": "code",
      "source": [
        "salude()"
      ],
      "metadata": {
        "colab": {
          "base_uri": "https://localhost:8080/"
        },
        "id": "H0plDSTo4sZG",
        "outputId": "99c31a4f-342e-4d60-a716-b386c934a827"
      },
      "execution_count": 2,
      "outputs": [
        {
          "output_type": "stream",
          "name": "stdout",
          "text": [
            "Saludar\n",
            "Es de Cracks\n"
          ]
        }
      ]
    },
    {
      "cell_type": "code",
      "source": [
        "a=int(input(\"ingrese un número\"))\n",
        "b=int(input(\"ingrese un número\"))\n",
        "c=int(input(\"ingrese un número\"))\n",
        "\n",
        "if a!=b and a!=c and b!=c:\n",
        "  if a>b and a>c:\n",
        "    if b>c:\n",
        "      print(a, \"es el valor mayor \")\n",
        "      print(b, \"es el valor medio \")\n",
        "      print(c, \"es el valor menor \")\n",
        "    else:\n",
        "      print(a, \"es el valor mayor \")\n",
        "      print(c, \"es el valor medio \")\n",
        "      print(b, \"es el valor menor \") \n",
        "  elif b>a and b>c:    \n",
        "    if a>c:\n",
        "      print(b, \"es el valor mayor \")\n",
        "      print(a, \"es el valor medio \")\n",
        "      print(c, \"es el valor menor \")    \n",
        "    else: \n",
        "      print(b, \"es el valor mayor \")\n",
        "      print(c, \"es el valor medio \")\n",
        "      print(a, \"es el valor menor \")     \n",
        "  if c>a and c>b:\n",
        "    if a>b:\n",
        "      print(c, \"es el valor mayor \")\n",
        "      print(a, \"es el valor medio \")\n",
        "      print(b, \"es el valor menor \")    \n",
        "    else: \n",
        "      print(c, \"es el valor mayor \")\n",
        "      print(b, \"es el valor medio \")\n",
        "      print(a, \"es el valor menor \")   \n",
        "else:\n",
        "  print(\"No se puede hacer el cálculo\")  "
      ],
      "metadata": {
        "id": "4fqMQs-g4uBe"
      },
      "execution_count": null,
      "outputs": []
    },
    {
      "cell_type": "code",
      "source": [
        "##Optimización\n",
        "## funcion sin parametros con retorno\n",
        "def imprimir(a,b,c):\n",
        "  print(a,\"es el valor mayor\")\n",
        "  print(b,\"es el valor medio\")\n",
        "  print(c,\"es el valor menor\")\n",
        "\n"
      ],
      "metadata": {
        "id": "WKYcyGHA6zn2"
      },
      "execution_count": 1,
      "outputs": []
    },
    {
      "cell_type": "code",
      "source": [
        "a=int(input(\" ingrese un número\"))\n",
        "b=int(input(\" ingrese un número\"))\n",
        "c=int(input(\" ingrese un número\"))\n",
        "\n",
        "if a!=b and a!=c and b!=c:\n",
        "  if a>b and a>c:\n",
        "    if b>c:\n",
        "      imprimir(a,b,c)\n",
        "    else:\n",
        "      imprimir(a,c,b)\n",
        "  elif b>a and b>c:    \n",
        "    if a>c:\n",
        "      imprimir(b,a,c)\n",
        "    else:   \n",
        "      imprimir(b,c,a)\n",
        "  if c>a and c>b:\n",
        "    if a>b:\n",
        "      imprimir(c,a,b)\n",
        "    else: \n",
        "      imprimir(c,b,a)\n",
        "else:\n",
        "  print(\"No se puede hacer el cálculo\")  "
      ],
      "metadata": {
        "colab": {
          "base_uri": "https://localhost:8080/"
        },
        "id": "_2WNbTzO7tFD",
        "outputId": "d234f5ca-0f94-4145-f778-e70e3705a27e"
      },
      "execution_count": 4,
      "outputs": [
        {
          "output_type": "stream",
          "name": "stdout",
          "text": [
            " ingrese un número1\n",
            " ingrese un número3\n",
            " ingrese un número2\n",
            "3 es el valor mayor\n",
            "2 es el valor medio\n",
            "1 es el valor menor\n"
          ]
        }
      ]
    },
    {
      "cell_type": "code",
      "source": [
        "##Optimización 2\n",
        "## funcion sin parametros con retorno\n",
        "def comparar(a,b,c):\n",
        "  print(a,\"es el valor mayor\")\n",
        "  print(b,\"es el valor medio\")\n",
        "  print(c,\"es el valor menor\")"
      ],
      "metadata": {
        "id": "CJQxypgWAy6A"
      },
      "execution_count": 5,
      "outputs": []
    },
    {
      "cell_type": "code",
      "source": [
        "def comparar(a,b,c):\n",
        "\n",
        "  if a!=b and a!=c and b!=c:\n",
        "    if a>b and a>c:\n",
        "      if b>c:\n",
        "        imprimir(a,b,c)\n",
        "      else:\n",
        "        imprimir(a,c,b)\n",
        "    elif b>a and b>c:    \n",
        "      if a>c:\n",
        "        imprimir(b,a,c)\n",
        "      else:   \n",
        "        imprimir(b,c,a)\n",
        "    if c>a and c>b:\n",
        "      if a>b:\n",
        "        imprimir(c,a,b)\n",
        "      else: \n",
        "        imprimir(c,b,a)\n",
        "  else:\n",
        "    print(\"No se puede hacer el cálculo\")  "
      ],
      "metadata": {
        "id": "PJEQx794A6dQ"
      },
      "execution_count": 9,
      "outputs": []
    },
    {
      "cell_type": "code",
      "source": [
        "a=int(input(\" ingrese un número \"))\n",
        "b=int(input(\" ingrese un número \"))\n",
        "c=int(input(\" ingrese un número \"))\n",
        "\n",
        "comparar(c,b,a)"
      ],
      "metadata": {
        "colab": {
          "base_uri": "https://localhost:8080/"
        },
        "id": "hTx_OI09ByRH",
        "outputId": "50d130c3-b6b2-410c-e477-4d5d8ee13ced"
      },
      "execution_count": 13,
      "outputs": [
        {
          "output_type": "stream",
          "name": "stdout",
          "text": [
            " ingrese un número 2\n",
            " ingrese un número 5\n",
            " ingrese un número 1\n",
            "5 es el valor mayor\n",
            "2 es el valor medio\n",
            "1 es el valor menor\n"
          ]
        }
      ]
    },
    {
      "cell_type": "code",
      "source": [
        "##Si una variable es vocal consonante o numero \n",
        "def type_c(d):\n",
        "  if type (d)==int:\n",
        "   print(d,\"es un numero\")\n",
        "  else:\n",
        "   print(d,\"es una letra\")\n",
        "\n"
      ],
      "metadata": {
        "id": "JopqSBnnExnm"
      },
      "execution_count": null,
      "outputs": []
    },
    {
      "cell_type": "code",
      "source": [
        "def type_c(d):\n",
        "  d=input(\"digita un numero o una letra \")"
      ],
      "metadata": {
        "id": "4ZVP60n0Ibdi"
      },
      "execution_count": null,
      "outputs": []
    },
    {
      "cell_type": "code",
      "source": [],
      "metadata": {
        "id": "UnCJACXQIfrA"
      },
      "execution_count": null,
      "outputs": []
    }
  ]
}