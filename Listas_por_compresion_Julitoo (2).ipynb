{
  "cells": [
    {
      "cell_type": "code",
      "execution_count": null,
      "metadata": {
        "id": "tWKVSB5LtZ40"
      },
      "outputs": [],
      "source": [
        "lista = [1, 2, 3, 4, 5, 6, 7, 8]\n",
        "nueva_lista = []\n",
        "\n",
        "for elemento in lista:\n",
        "    nueva_lista.append(elemento * 7)\n"
      ]
    },
    {
      "cell_type": "code",
      "execution_count": null,
      "metadata": {
        "colab": {
          "base_uri": "https://localhost:8080/"
        },
        "id": "LlmAqicYqCA8",
        "outputId": "2b69ab2a-f7a6-49b4-a144-84177dcb20b8"
      },
      "outputs": [
        {
          "name": "stdout",
          "output_type": "stream",
          "text": [
            "ingresa el numero por el que quieres que se multiplique la lista 5\n",
            "[5, 10, 15, 20, 25, 30, 35, 40]\n"
          ]
        }
      ],
      "source": [
        "m=int(input(\"ingresa el numero por el que quieres que se multiplique la lista \"))\n",
        "\n",
        "lista_de_comprensión = [1, 2, 3, 4, 5, 6, 7, 8]\n",
        "\n",
        "nueva_lista_comprensión = [elemento * m for elemento in lista_de_comprensión]\n",
        "\n",
        "print(nueva_lista_comprensión)"
      ]
    },
    {
      "cell_type": "code",
      "execution_count": null,
      "metadata": {
        "colab": {
          "base_uri": "https://localhost:8080/"
        },
        "id": "9zdhKFb2te08",
        "outputId": "8bb32303-82b0-408e-d7a4-84268ccf7fc1"
      },
      "outputs": [
        {
          "name": "stdout",
          "output_type": "stream",
          "text": [
            "ingresa el numero por el que quieres que se multiplique la lista 3\n",
            "[3, 6, 9, 12, 15, 18, 21, 24]\n",
            "los numeros pares de la lista anterior son\n",
            "[6, 12, 18, 24]\n",
            "los numeros pares de la lista anterior son\n",
            "[3, 6, 9, 12, 15, 18, 21, 24]\n"
          ]
        }
      ],
      "source": [
        "m=int(input(\"ingresa el numero por el que quieres que se multiplique la lista \"))\n",
        "\n",
        "lista_de_comprensión = [1, 2, 3, 4, 5, 6, 7, 8]\n",
        "\n",
        "nueva_lista_comprensión = [elemento * m for elemento in lista_de_comprensión]\n",
        "\n",
        "print(nueva_lista_comprensión)\n",
        "\n",
        "lista_compresión_pares = [elemento for elemento in nueva_lista_comprensión if elemento%2==0 ]\n",
        "\n",
        "print(\"los numeros pares de la lista anterior son\")\n",
        "print(lista_compresión_pares)\n",
        "\n",
        "\n",
        "lista_compresión_impares = [elemento for elemento in nueva_lista_comprensión if elemento%3==0 ]\n",
        "\n",
        "print(\"los numeros impares de la lista anterior son\")\n",
        "print(lista_compresión_impares)\n",
        "\n"
      ]
    },
    {
      "cell_type": "code",
      "execution_count": null,
      "metadata": {
        "id": "hxk3hmzA04NG"
      },
      "outputs": [],
      "source": [
        "n=int(input(\" ingresa el numero de palabras que vas ingresar \"))\n",
        "x=0\n",
        "lista=[]\n",
        "while x<n:\n",
        "  x=x+1\n",
        "  l=str(input(\"ingresa una plabara completa totalemente en mayúsculas o en minúsculas  \"))\n",
        "  lista.append(l)\n",
        "\n",
        "lista_comprimida_M=[elemento for elemento in lista if elemento[0:1].isupper()]\n",
        "\n",
        "\n",
        "print(\"las palbras escritas en mayúsculas son\")\n",
        "\n",
        "print(lista_comprimida_M)\n",
        "\n",
        "lista_comprimida_m=[elemento for elemento in lista if elemento[0:1].islower()]\n",
        "\n",
        "print(\"las palbras escritas en minúsculas son\")\n",
        "print(lista_comprimida_m)\n",
        "\n"
      ]
    },
    {
      "cell_type": "code",
      "source": [
        "n=int(input(\" ingresa el numero de palabras que vas ingresar \"))\n",
        "x=0\n",
        "lista=[]\n",
        "while x<n:\n",
        "  x=x+1\n",
        "  l=str(input(\"ingresa una plabara completa totalemente en mayúsculas o en minúsculas  \"))\n",
        "  lista.append(l)\n",
        "\n",
        "lista_comprimida_M=list((map(lambda elemento:True if elemento.isupper() else False, lista)))\n",
        "\n",
        "print(\"las palbras escritas en mayúsculas son\")\n",
        "\n",
        "print(lista_comprimida_M)\n",
        "\n",
        "lista_comprimida_m=[elemento for elemento in lista if elemento.islower()]\n",
        "lista_comprimida_m=list((map(lambda elemento:True if elemento.islower() else False, lista)))\n",
        "\n",
        "print(\"las palbras escritas en minúsculas son\")\n",
        "print(lista_comprimida_m)"
      ],
      "metadata": {
        "colab": {
          "base_uri": "https://localhost:8080/"
        },
        "id": "tIZSL24wuRCS",
        "outputId": "05ee1665-88c9-4c51-b9a4-bae375bb6b00"
      },
      "execution_count": 5,
      "outputs": [
        {
          "output_type": "stream",
          "name": "stdout",
          "text": [
            " ingresa el numero de palabras que vas ingresar 2\n",
            "ingresa una plabara completa totalemente en mayúsculas o en minúsculas  DFHJ\n",
            "ingresa una plabara completa totalemente en mayúsculas o en minúsculas  FLLÑL\n",
            "las palbras escritas en mayúsculas son\n",
            "[True, True]\n",
            "las palbras escritas en minúsculas son\n",
            "[]\n"
          ]
        }
      ]
    },
    {
      "cell_type": "code",
      "source": [],
      "metadata": {
        "id": "2DOOKOAmsMsj"
      },
      "execution_count": null,
      "outputs": []
    },
    {
      "cell_type": "markdown",
      "metadata": {
        "id": "DcygWJ0n_wZ6"
      },
      "source": [
        "sintaxis \n",
        "\n",
        "\n",
        "ventajas: mas eiciencia en tiempo y espacio que los bucles \n",
        "requiere menso lineas de codigos \n"
      ]
    },
    {
      "cell_type": "code",
      "execution_count": null,
      "metadata": {
        "colab": {
          "base_uri": "https://localhost:8080/"
        },
        "id": "Mibddi8j_gOm",
        "outputId": "356c6c01-eaa0-4fb1-f102-05dfbd4848a7"
      },
      "outputs": [
        {
          "name": "stdout",
          "output_type": "stream",
          "text": [
            "[2, 4, 6, 8, 10, 12, 14, 16]\n"
          ]
        }
      ],
      "source": [
        "números=[(n*2)for n in range(1,9)]\n",
        "print(números)"
      ]
    },
    {
      "cell_type": "code",
      "execution_count": null,
      "metadata": {
        "colab": {
          "base_uri": "https://localhost:8080/"
        },
        "id": "B9Vc22MB_usr",
        "outputId": "276e1aa8-1743-4892-86d6-0f8441dbc5ae"
      },
      "outputs": [
        {
          "name": "stdout",
          "output_type": "stream",
          "text": [
            "['*', '**', '***', '****', '*****']\n"
          ]
        }
      ],
      "source": [
        "cadenas=[\"*\" * n for n in range(1,6)]\n",
        "print(cadenas,end=\"\\n\" )"
      ]
    },
    {
      "cell_type": "code",
      "execution_count": null,
      "metadata": {
        "colab": {
          "base_uri": "https://localhost:8080/"
        },
        "id": "GGIdJ0YmBSR4",
        "outputId": "8803637d-fa8a-4cd6-c2ac-db68360e6135"
      },
      "outputs": [
        {
          "name": "stdout",
          "output_type": "stream",
          "text": [
            "ingrese la palabra que desee: jklñ{\n",
            "['j', 'k', 'l', 'ñ', '{']\n"
          ]
        }
      ],
      "source": [
        "#Ejercicio by samuelito \n",
        "x=input(\"ingrese la palabra que desee: \")\n",
        "lista=[n for n in x]\n",
        "print(lista)"
      ]
    },
    {
      "cell_type": "code",
      "execution_count": null,
      "metadata": {
        "id": "JhxEA0DgDCbb"
      },
      "outputs": [],
      "source": [
        "#ejercicio daniel amado \n",
        "lista1 = [2, 7,10,9,8]\n",
        "lista2= [elementos**2 for elementos in lista1 if elementos%2==0]\n",
        "print(\"nueva lisrta\",lista 2)"
      ]
    },
    {
      "cell_type": "code",
      "execution_count": null,
      "metadata": {
        "id": "V2XOH7asDrS6"
      },
      "outputs": [],
      "source": [
        "#ejercicio Iván \n",
        "import random\n",
        "capitan= [random.randrange(1,30)for i in range(9)]\n",
        "print(\"imprimir números aleatorios de la lista: \", str(capitan))"
      ]
    },
    {
      "cell_type": "code",
      "execution_count": null,
      "metadata": {
        "colab": {
          "background_save": true,
          "base_uri": "https://localhost:8080/"
        },
        "id": "Y42MVwNZGPtz",
        "outputId": "c7991d49-c41b-4d76-b600-8bfc0afc9122"
      },
      "outputs": [
        {
          "name": "stdout",
          "output_type": "stream",
          "text": [
            "ingrear los números de los que quieres hacer un descuento \n"
          ]
        }
      ],
      "source": [
        "#ejercico Juanpa\n",
        "precios=[]\n",
        "print(\"ingrear los números de los que quieres hacer un descuento \")\n",
        "det=True\n",
        "while det:\n",
        "  num=int(input(\"si no desea ingresar mas numeros digite 0 \"))\n",
        "  precios.append(num)\n",
        "  det=False if num==0 else num>0\n",
        "  des=float(input(\"ingresar el descuento sin el % \"))\n",
        "  presdes = [precio*des/100 for precio in precios]\n",
        "  presdes.pop(-1)\n",
        "  print(\"este es el valor que le debes resta a cada numero \", presdes)"
      ]
    },
    {
      "cell_type": "code",
      "execution_count": null,
      "metadata": {
        "id": "ekq36VqIHg-B"
      },
      "outputs": [],
      "source": [
        "# ejercico cristian\n",
        "num=[]\n",
        "num1=[i] for i in num ]\n",
        "for i in range(6):\n",
        "(int(input(\"introduce el número ganador \")))\n",
        "  num"
      ]
    },
    {
      "cell_type": "code",
      "source": [
        "# ejercicio Lesli2\n",
        "c=int(input(\"digita la cantidad de elementos que deseas ingresar: \"))\n",
        "lista1=[]\n",
        "for i in range(c):\n",
        "  word=input(\"escribe aquí: \").lower()\n",
        "  lista1.append(word)\n",
        "print(lista1)\n",
        "lista2=list((map(lambda x:True if x==x[::-1] else False,lista1 )))\n",
        "lista2"
      ],
      "metadata": {
        "id": "03p3XorW78a5"
      },
      "execution_count": null,
      "outputs": []
    },
    {
      "cell_type": "code",
      "source": [
        "def capitalizar(oracion):\n",
        "    lista1=[]\n",
        "    for l in n1:\n",
        "      "
      ],
      "metadata": {
        "id": "P-4KnImj9Wf9"
      },
      "execution_count": null,
      "outputs": []
    },
    {
      "cell_type": "code",
      "source": [
        "listap=[]\n",
        "n=input(\"ingresa una oración                                                                                                                                                                                                                                                                                                                                                                                                                                                                                                                                                                                                                                                                                                                                                                                                                                                                                                                                                                                                                                                                                                                                                                                                                                                                                                                                                                                                                                                                                                                                                                                                                                                                                                                                                                                                                                                                                   \")"
      ],
      "metadata": {
        "id": "7J5LFYHiI2Wg"
      },
      "execution_count": null,
      "outputs": []
    },
    {
      "cell_type": "code",
      "source": [
        "##lambda\n",
        "print(\"Hola soy lucia del sistemas de asignacion \")\n",
        "personas=[('pedro',33),('ana',3),('juan', 13),('carla',45)]\n",
        "perma=list(filter(lambda may: may[1]>=18,personas))\n",
        "perma\n",
        "print(f'{perma} tendra la cita a las 8 am y 10 am respectivamente ')\n",
        "\n",
        "perme=list(filter(lambda men: men[1]>18,personas))\n",
        "perme\n",
        "print(f'{perme}tendra la cita a las 2pm y 4pm respectivamente')"
      ],
      "metadata": {
        "id": "DFYyKAU-PgZN"
      },
      "execution_count": null,
      "outputs": []
    },
    {
      "cell_type": "code",
      "source": [],
      "metadata": {
        "id": "f3swbZmWQ7Wd"
      },
      "execution_count": null,
      "outputs": []
    }
  ],
  "metadata": {
    "colab": {
      "collapsed_sections": [],
      "provenance": []
    },
    "kernelspec": {
      "display_name": "Python 3",
      "name": "python3"
    },
    "language_info": {
      "name": "python"
    }
  },
  "nbformat": 4,
  "nbformat_minor": 0
}