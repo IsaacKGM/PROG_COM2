{
  "nbformat": 4,
  "nbformat_minor": 0,
  "metadata": {
    "colab": {
      "provenance": []
    },
    "kernelspec": {
      "name": "python3",
      "display_name": "Python 3"
    },
    "language_info": {
      "name": "python"
    }
  },
  "cells": [
    {
      "cell_type": "code",
      "execution_count": null,
      "metadata": {
        "id": "ZYhBPpgtNNBn"
      },
      "outputs": [],
      "source": [
        "class Humano(): #super clase\n",
        "  nombre=\"nombre de la raza\"\n",
        "  año= \"edad\"\n",
        "  region=\"region de nacimiento\"\n",
        "\n",
        "\n",
        "  def __init__(self,nombre,año,region):\n",
        "    self.nombre = nombre\n",
        "    self.año = año\n",
        "    self.region = region\n",
        "\n",
        "  def hobbits(self,trabajo,habilidades,ventajas):\n",
        "    self.trabajo=trabajo\n",
        "    self.habilidades = habilidades\n",
        "    self.ventajas = ventajas\n",
        "\n",
        "  def __repr__ (self):\n",
        "    return f\"el nombre es : {self.nombre}, tiene de edad {self.año} años, y su region es {self.region}\"\n",
        "    return f\"su trabajo es : {self.trabajo}, tiene de habilidades {self.habilidades}, y una de sus ventajas es {self.ventajas}\"\n",
        "  "
      ]
    },
    {
      "cell_type": "code",
      "source": [
        "humano1=Humano(\"Isaac\", 18,\"colombia\") #Atributos calase madre"
      ],
      "metadata": {
        "id": "ZTZafN4tRy8Q"
      },
      "execution_count": null,
      "outputs": []
    },
    {
      "cell_type": "code",
      "source": [
        "print(humano1)"
      ],
      "metadata": {
        "colab": {
          "base_uri": "https://localhost:8080/"
        },
        "id": "y-oD1HgmOckQ",
        "outputId": "fd151c9f-0c96-42df-d203-5db8c1f0af97"
      },
      "execution_count": null,
      "outputs": [
        {
          "output_type": "stream",
          "name": "stdout",
          "text": [
            "el nombre es : Isaac, tiene de edad 18 años, y su region es colombia\n"
          ]
        }
      ]
    },
    {
      "cell_type": "code",
      "source": [
        "humano1.hobbits(\"futbolista\", \"superrapidisimo\", \"ser messi\") #Atributos calase madre\n",
        "humano1.__dict__"
      ],
      "metadata": {
        "colab": {
          "base_uri": "https://localhost:8080/"
        },
        "id": "g0Rw_-miRKep",
        "outputId": "80871a91-5cb0-4219-b13b-9dbc179978eb"
      },
      "execution_count": null,
      "outputs": [
        {
          "output_type": "execute_result",
          "data": {
            "text/plain": [
              "{'nombre': 'Isaac',\n",
              " 'año': 18,\n",
              " 'region': 'colombia',\n",
              " 'trabajo': 'futbolista',\n",
              " 'habilidades': 'superrapidisimo',\n",
              " 'ventajas': 'ser messi'}"
            ]
          },
          "metadata": {},
          "execution_count": 41
        }
      ]
    },
    {
      "cell_type": "code",
      "source": [],
      "metadata": {
        "id": "1v-OjTEoSFyO"
      },
      "execution_count": null,
      "outputs": []
    }
  ]
}